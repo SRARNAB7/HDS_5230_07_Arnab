{
  "nbformat": 4,
  "nbformat_minor": 0,
  "metadata": {
    "colab": {
      "provenance": [],
      "authorship_tag": "ABX9TyORCbRnJycvI9prmsTUC8MJ",
      "include_colab_link": true
    },
    "kernelspec": {
      "name": "python3",
      "display_name": "Python 3"
    },
    "language_info": {
      "name": "python"
    }
  },
  "cells": [
    {
      "cell_type": "markdown",
      "metadata": {
        "id": "view-in-github",
        "colab_type": "text"
      },
      "source": [
        "<a href=\"https://colab.research.google.com/github/SRARNAB7/HDS_5230_07_Arnab/blob/main/Genetic_Algorithm_Number.ipynb\" target=\"_parent\"><img src=\"https://colab.research.google.com/assets/colab-badge.svg\" alt=\"Open In Colab\"/></a>"
      ]
    },
    {
      "cell_type": "code",
      "execution_count": 4,
      "metadata": {
        "id": "D6irtJofi7oW",
        "colab": {
          "base_uri": "https://localhost:8080/"
        },
        "outputId": "01412f0f-638d-42da-8f27-2b9abe228268"
      },
      "outputs": [
        {
          "output_type": "stream",
          "name": "stdout",
          "text": [
            "[(9428.343750452412, 6935.53780065059, 3026.986037979591), (7533.871262097238, 223.8964507472696, 7483.730727858267), (2421.1517178563404, 6814.865578600125, 1165.0143947089364), (9030.504216243604, 7623.487197550604, 1702.0770894372217), (6184.458597578811, 4456.13778854716, 6361.288785883067)]\n"
          ]
        }
      ],
      "source": [
        "import random\n",
        "def foo(x,y,z):\n",
        "  return 6*x**3 + 9*y**2 + 90*z -25\n",
        "\n",
        "def fitness(x,y,z):\n",
        "  ans= foo(x,y,z)\n",
        "\n",
        "  if ans== 0:\n",
        "    return 99999\n",
        "  else:\n",
        "    return abs(1/ans)\n",
        "\n",
        "#generate solutions\n",
        "\n",
        "solutions=[]\n",
        "\n",
        "for s in range(1000):\n",
        "  solutions.append((random.uniform(0,10000),\n",
        "                   random.uniform(0,10000),\n",
        "                   random.uniform(0,10000)))\n",
        "\n",
        "#print(solutions[:5])\n",
        "\n",
        "\n",
        "for i in range(10000):\n",
        "  ranked_solutions=[]\n",
        "  for s in solutions:\n",
        "    ranked_solutions.append(fitness(s[0],s[1],s[2],s))\n",
        "  ranked_solutions.sort()\n",
        "  ranked_solutions.reverse()\n",
        "\n",
        "  print(f\"===Gen{i} best_solutions === \")\n",
        "  print(ranked_solutions[0])\n",
        "\n",
        "  best_solutions= ranked_solutions[:100]\n",
        "\n",
        "  if ranked_solutions[0][0] > 999:\n",
        "    break\n",
        "\n",
        "  elements=[]\n",
        "  for s in best_solutions:\n",
        "    elements.append(s[1][0])\n",
        "    elements.append(s[1][1])\n",
        "    elements.append(s[1][2])\n",
        "\n",
        "  newGen = []\n",
        "  for _ in range(1000):\n",
        "    e1 = random.choice(elements) * random.uniform(0.99,1.01)\n",
        "    e2 = random.choice(elements) * random.uniform(0.99,1.01)\n",
        "    e3 = random.choice(elements) * random.uniform(0.99,1.01)\n",
        "\n",
        "    newGen.append((e1,e2,e3))\n",
        "\n",
        "  solutions = newGen\n",
        "\n"
      ]
    }
  ]
}