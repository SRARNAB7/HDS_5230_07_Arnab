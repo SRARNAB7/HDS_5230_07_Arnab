{
  "nbformat": 4,
  "nbformat_minor": 0,
  "metadata": {
    "colab": {
      "provenance": [],
      "authorship_tag": "ABX9TyOv+d8tEvXH8D89uFBzp95F",
      "include_colab_link": true
    },
    "kernelspec": {
      "name": "python3",
      "display_name": "Python 3"
    },
    "language_info": {
      "name": "python"
    }
  },
  "cells": [
    {
      "cell_type": "markdown",
      "metadata": {
        "id": "view-in-github",
        "colab_type": "text"
      },
      "source": [
        "<a href=\"https://colab.research.google.com/github/SRARNAB7/HDS_5230_07_Arnab/blob/main/Genetic_Algorithm_Number.ipynb\" target=\"_parent\"><img src=\"https://colab.research.google.com/assets/colab-badge.svg\" alt=\"Open In Colab\"/></a>"
      ]
    },
    {
      "cell_type": "code",
      "execution_count": null,
      "metadata": {
        "id": "D6irtJofi7oW"
      },
      "outputs": [],
      "source": [
        "def foo(x,y,z):\n",
        "  return 6*x**3 + 9*y**2 + 90*z -25\n",
        "\n",
        "def fitness(x,y,z):\n",
        "  ans= foo(x,y,z)\n",
        "\n",
        "  if ans== 0:\n",
        "    return 99999\n",
        "  else:\n",
        "    return abs(1/ans)\n",
        "\n"
      ]
    }
  ]
}