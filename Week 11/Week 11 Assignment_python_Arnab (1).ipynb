{
 "cells": [
  {
   "cell_type": "code",
   "execution_count": 7,
   "id": "64e68f3d-3cf0-4610-b8e7-9cf625f3b0e5",
   "metadata": {},
   "outputs": [
    {
     "name": "stdout",
     "output_type": "stream",
     "text": [
      "Collecting xgboost\n",
      "  Downloading xgboost-3.0.0-py3-none-macosx_10_15_x86_64.whl.metadata (2.1 kB)\n",
      "Requirement already satisfied: numpy in /opt/anaconda3/lib/python3.12/site-packages (from xgboost) (1.26.4)\n",
      "Requirement already satisfied: scipy in /opt/anaconda3/lib/python3.12/site-packages (from xgboost) (1.13.1)\n",
      "Downloading xgboost-3.0.0-py3-none-macosx_10_15_x86_64.whl (2.2 MB)\n",
      "\u001b[2K   \u001b[90m━━━━━━━━━━━━━━━━━━━━━━━━━━━━━━━━━━━━━━━━\u001b[0m \u001b[32m2.2/2.2 MB\u001b[0m \u001b[31m12.0 MB/s\u001b[0m eta \u001b[36m0:00:00\u001b[0m \u001b[36m0:00:01\u001b[0m\n",
      "\u001b[?25hInstalling collected packages: xgboost\n",
      "Successfully installed xgboost-3.0.0\n"
     ]
    }
   ],
   "source": [
    "!pip install xgboost"
   ]
  },
  {
   "cell_type": "code",
   "execution_count": 9,
   "id": "f59f0fd4-78c6-4f77-ada0-c6f387b44611",
   "metadata": {},
   "outputs": [],
   "source": [
    "import pandas as pd\n",
    "import numpy as np\n",
    "import time\n",
    "from sklearn.model_selection import cross_val_score\n",
    "from sklearn.model_selection import StratifiedKFold\n",
    "from xgboost import XGBClassifier"
   ]
  },
  {
   "cell_type": "markdown",
   "id": "cf8205e3-7631-40ca-83df-a23571ad6788",
   "metadata": {},
   "source": [
    "The sample file of 3 GB is downloaded in CSV format from the Assignment- data generator.R file. Then it is loaded in Jupyter Notebook."
   ]
  },
  {
   "cell_type": "code",
   "execution_count": 1,
   "id": "bf2b82e6-aff3-4b80-90f2-51c2ef31e4e8",
   "metadata": {},
   "outputs": [],
   "source": [
    "df_data = pd.read_csv('dfdata.csv')"
   ]
  },
  {
   "cell_type": "code",
   "execution_count": 39,
   "id": "2c98326e-c484-46b1-b29d-b855fe6bfed8",
   "metadata": {},
   "outputs": [
    {
     "data": {
      "text/html": [
       "<div>\n",
       "<style scoped>\n",
       "    .dataframe tbody tr th:only-of-type {\n",
       "        vertical-align: middle;\n",
       "    }\n",
       "\n",
       "    .dataframe tbody tr th {\n",
       "        vertical-align: top;\n",
       "    }\n",
       "\n",
       "    .dataframe thead th {\n",
       "        text-align: right;\n",
       "    }\n",
       "</style>\n",
       "<table border=\"1\" class=\"dataframe\">\n",
       "  <thead>\n",
       "    <tr style=\"text-align: right;\">\n",
       "      <th></th>\n",
       "      <th>pregnant</th>\n",
       "      <th>glucose</th>\n",
       "      <th>pressure</th>\n",
       "      <th>triceps</th>\n",
       "      <th>insulin</th>\n",
       "      <th>mass</th>\n",
       "      <th>pedigree</th>\n",
       "      <th>age</th>\n",
       "      <th>NA</th>\n",
       "      <th>outcome</th>\n",
       "    </tr>\n",
       "  </thead>\n",
       "  <tbody>\n",
       "    <tr>\n",
       "      <th>0</th>\n",
       "      <td>7</td>\n",
       "      <td>127</td>\n",
       "      <td>72</td>\n",
       "      <td>49</td>\n",
       "      <td>48</td>\n",
       "      <td>40.7</td>\n",
       "      <td>0.721</td>\n",
       "      <td>26</td>\n",
       "      <td>1</td>\n",
       "      <td>1</td>\n",
       "    </tr>\n",
       "    <tr>\n",
       "      <th>1</th>\n",
       "      <td>0</td>\n",
       "      <td>105</td>\n",
       "      <td>80</td>\n",
       "      <td>39</td>\n",
       "      <td>87</td>\n",
       "      <td>30.5</td>\n",
       "      <td>0.875</td>\n",
       "      <td>47</td>\n",
       "      <td>0</td>\n",
       "      <td>0</td>\n",
       "    </tr>\n",
       "    <tr>\n",
       "      <th>2</th>\n",
       "      <td>8</td>\n",
       "      <td>120</td>\n",
       "      <td>60</td>\n",
       "      <td>12</td>\n",
       "      <td>142</td>\n",
       "      <td>35.9</td>\n",
       "      <td>1.162</td>\n",
       "      <td>22</td>\n",
       "      <td>0</td>\n",
       "      <td>0</td>\n",
       "    </tr>\n",
       "    <tr>\n",
       "      <th>3</th>\n",
       "      <td>2</td>\n",
       "      <td>97</td>\n",
       "      <td>70</td>\n",
       "      <td>31</td>\n",
       "      <td>310</td>\n",
       "      <td>26.4</td>\n",
       "      <td>0.138</td>\n",
       "      <td>22</td>\n",
       "      <td>0</td>\n",
       "      <td>0</td>\n",
       "    </tr>\n",
       "    <tr>\n",
       "      <th>4</th>\n",
       "      <td>6</td>\n",
       "      <td>123</td>\n",
       "      <td>70</td>\n",
       "      <td>41</td>\n",
       "      <td>215</td>\n",
       "      <td>23.6</td>\n",
       "      <td>0.695</td>\n",
       "      <td>25</td>\n",
       "      <td>0</td>\n",
       "      <td>0</td>\n",
       "    </tr>\n",
       "  </tbody>\n",
       "</table>\n",
       "</div>"
      ],
      "text/plain": [
       "   pregnant  glucose  pressure  triceps  insulin  mass  pedigree  age  NA  \\\n",
       "0         7      127        72       49       48  40.7     0.721   26   1   \n",
       "1         0      105        80       39       87  30.5     0.875   47   0   \n",
       "2         8      120        60       12      142  35.9     1.162   22   0   \n",
       "3         2       97        70       31      310  26.4     0.138   22   0   \n",
       "4         6      123        70       41      215  23.6     0.695   25   0   \n",
       "\n",
       "   outcome  \n",
       "0        1  \n",
       "1        0  \n",
       "2        0  \n",
       "3        0  \n",
       "4        0  "
      ]
     },
     "execution_count": 39,
     "metadata": {},
     "output_type": "execute_result"
    }
   ],
   "source": [
    "df_data.head()"
   ]
  },
  {
   "cell_type": "markdown",
   "id": "9d2b1fca-123f-428b-ad41-6dfa2adebd0f",
   "metadata": {},
   "source": [
    "This code samples 100 rows from a dataset, drops an unnecessary column, separates features and target, defines an XGBoost classifier, and performs 5-fold cross-validation to evaluate model accuracy. It measures the time taken for training and prints the method used, dataset size, predictive performance, and fitting time for reporting."
   ]
  },
  {
   "cell_type": "code",
   "execution_count": 53,
   "id": "c2359e8a-1cca-4b15-970e-55fe775594c4",
   "metadata": {},
   "outputs": [
    {
     "name": "stdout",
     "output_type": "stream",
     "text": [
      "Method used: XGBoost in Python via scikit-learn and 5-fold CV\n",
      "Dataset size: 100\n",
      "Testing-set predictive performance (Accuracy): 0.8700\n",
      "Time taken for the model to be fit (seconds): 0.17\n"
     ]
    },
    {
     "name": "stderr",
     "output_type": "stream",
     "text": [
      "/opt/anaconda3/lib/python3.12/site-packages/xgboost/training.py:183: UserWarning: [20:31:02] WARNING: /Users/runner/work/xgboost/xgboost/src/learner.cc:738: \n",
      "Parameters: { \"use_label_encoder\" } are not used.\n",
      "\n",
      "  bst.update(dtrain, iteration=i, fobj=obj)\n",
      "/opt/anaconda3/lib/python3.12/site-packages/xgboost/training.py:183: UserWarning: [20:31:02] WARNING: /Users/runner/work/xgboost/xgboost/src/learner.cc:738: \n",
      "Parameters: { \"use_label_encoder\" } are not used.\n",
      "\n",
      "  bst.update(dtrain, iteration=i, fobj=obj)\n",
      "/opt/anaconda3/lib/python3.12/site-packages/xgboost/training.py:183: UserWarning: [20:31:02] WARNING: /Users/runner/work/xgboost/xgboost/src/learner.cc:738: \n",
      "Parameters: { \"use_label_encoder\" } are not used.\n",
      "\n",
      "  bst.update(dtrain, iteration=i, fobj=obj)\n",
      "/opt/anaconda3/lib/python3.12/site-packages/xgboost/training.py:183: UserWarning: [20:31:02] WARNING: /Users/runner/work/xgboost/xgboost/src/learner.cc:738: \n",
      "Parameters: { \"use_label_encoder\" } are not used.\n",
      "\n",
      "  bst.update(dtrain, iteration=i, fobj=obj)\n",
      "/opt/anaconda3/lib/python3.12/site-packages/xgboost/training.py:183: UserWarning: [20:31:02] WARNING: /Users/runner/work/xgboost/xgboost/src/learner.cc:738: \n",
      "Parameters: { \"use_label_encoder\" } are not used.\n",
      "\n",
      "  bst.update(dtrain, iteration=i, fobj=obj)\n"
     ]
    }
   ],
   "source": [
    "# sample of 100 rows (with seed 123)\n",
    "sample_df = df_data.sample(n=100, random_state=123)\n",
    "\n",
    "sample_df = sample_df.drop('NA', axis=1)\n",
    "# Separating features and labels\n",
    "X = sample_df.drop('outcome', axis=1)\n",
    "y = sample_df['outcome']\n",
    "\n",
    "# Defining XGBoost model\n",
    "model = XGBClassifier(\n",
    "    use_label_encoder=False,\n",
    "    eval_metric='logloss'\n",
    ")\n",
    "\n",
    "# Setup of 5-fold cross-validation\n",
    "#kfold = StratifiedKFold(n_splits=5, shuffle=True, random_state=123)\n",
    "\n",
    "# Measuring time and perform CV\n",
    "start = time.time()\n",
    "\n",
    "cv_results = cross_val_score(model, X, y, cv=5, scoring='accuracy')\n",
    "\n",
    "end = time.time()\n",
    "\n",
    "# Getting the results\n",
    "print(\"Method used: XGBoost in Python via scikit-learn and 5-fold CV\")\n",
    "print(\"Dataset size: 100\")\n",
    "print(f\"Testing-set predictive performance (Accuracy): {cv_results.mean():.4f}\")\n",
    "print(f\"Time taken for the model to be fit (seconds): {round(end - start, 2)}\")\n"
   ]
  },
  {
   "cell_type": "markdown",
   "id": "66b5ebd6-17d6-445a-b167-6adb65763192",
   "metadata": {},
   "source": [
    "This code samples 1000 rows from a dataset, drops an unnecessary column, separates features and target, defines an XGBoost classifier, and performs 5-fold cross-validation to evaluate model accuracy. It measures the time taken for training and prints the method used, dataset size, predictive performance, and fitting time for reporting."
   ]
  },
  {
   "cell_type": "code",
   "execution_count": 55,
   "id": "0ea12560-20f1-4be6-a0e9-3cb0916a6fe9",
   "metadata": {},
   "outputs": [
    {
     "name": "stderr",
     "output_type": "stream",
     "text": [
      "/opt/anaconda3/lib/python3.12/site-packages/xgboost/training.py:183: UserWarning: [20:31:54] WARNING: /Users/runner/work/xgboost/xgboost/src/learner.cc:738: \n",
      "Parameters: { \"use_label_encoder\" } are not used.\n",
      "\n",
      "  bst.update(dtrain, iteration=i, fobj=obj)\n",
      "/opt/anaconda3/lib/python3.12/site-packages/xgboost/training.py:183: UserWarning: [20:31:55] WARNING: /Users/runner/work/xgboost/xgboost/src/learner.cc:738: \n",
      "Parameters: { \"use_label_encoder\" } are not used.\n",
      "\n",
      "  bst.update(dtrain, iteration=i, fobj=obj)\n",
      "/opt/anaconda3/lib/python3.12/site-packages/xgboost/training.py:183: UserWarning: [20:31:55] WARNING: /Users/runner/work/xgboost/xgboost/src/learner.cc:738: \n",
      "Parameters: { \"use_label_encoder\" } are not used.\n",
      "\n",
      "  bst.update(dtrain, iteration=i, fobj=obj)\n",
      "/opt/anaconda3/lib/python3.12/site-packages/xgboost/training.py:183: UserWarning: [20:31:55] WARNING: /Users/runner/work/xgboost/xgboost/src/learner.cc:738: \n",
      "Parameters: { \"use_label_encoder\" } are not used.\n",
      "\n",
      "  bst.update(dtrain, iteration=i, fobj=obj)\n"
     ]
    },
    {
     "name": "stdout",
     "output_type": "stream",
     "text": [
      "Method used: XGBoost in Python via scikit-learn and 5-fold CV\n",
      "Dataset size: 1000\n",
      "Testing-set predictive performance (Accuracy): 0.9490\n",
      "Time taken for the model to be fit (seconds): 0.36\n"
     ]
    },
    {
     "name": "stderr",
     "output_type": "stream",
     "text": [
      "/opt/anaconda3/lib/python3.12/site-packages/xgboost/training.py:183: UserWarning: [20:31:55] WARNING: /Users/runner/work/xgboost/xgboost/src/learner.cc:738: \n",
      "Parameters: { \"use_label_encoder\" } are not used.\n",
      "\n",
      "  bst.update(dtrain, iteration=i, fobj=obj)\n"
     ]
    }
   ],
   "source": [
    "# sample of 1000 rows (with seed 123)\n",
    "sample_df = df_data.sample(n=1000, random_state=123)\n",
    "\n",
    "sample_df = sample_df.drop('NA', axis=1) # Removing the unwanted column\n",
    "# Separating features and labels\n",
    "X = sample_df.drop('outcome', axis=1)\n",
    "y = sample_df['outcome']\n",
    "\n",
    "# Defining XGBoost model\n",
    "model = XGBClassifier(\n",
    "    use_label_encoder=False,\n",
    "    eval_metric='logloss'\n",
    ")\n",
    "\n",
    "# Setup of 5-fold cross-validation\n",
    "#kfold = StratifiedKFold(n_splits=5, shuffle=True, random_state=123)\n",
    "\n",
    "# Measuring time and perform CV\n",
    "start = time.time()\n",
    "\n",
    "cv_results = cross_val_score(model, X, y, cv=5, scoring='accuracy')\n",
    "\n",
    "end = time.time()\n",
    "\n",
    "# Getting the results\n",
    "print(\"Method used: XGBoost in Python via scikit-learn and 5-fold CV\")\n",
    "print(\"Dataset size: 1000\")\n",
    "print(f\"Testing-set predictive performance (Accuracy): {cv_results.mean():.4f}\")\n",
    "print(f\"Time taken for the model to be fit (seconds): {round(end - start, 2)}\")\n"
   ]
  },
  {
   "cell_type": "markdown",
   "id": "218f2c1c-d5c3-4f29-82ff-d0d5e79b78b0",
   "metadata": {},
   "source": [
    "This code samples 10000 rows from a dataset, drops an unnecessary column, separates features and target, defines an XGBoost classifier, and performs 5-fold cross-validation to evaluate model accuracy. It measures the time taken for training and prints the method used, dataset size, predictive performance, and fitting time for reporting."
   ]
  },
  {
   "cell_type": "code",
   "execution_count": 57,
   "id": "32bb7b91-ac2b-47bb-83fb-1201081e9dcf",
   "metadata": {},
   "outputs": [
    {
     "name": "stderr",
     "output_type": "stream",
     "text": [
      "/opt/anaconda3/lib/python3.12/site-packages/xgboost/training.py:183: UserWarning: [20:32:30] WARNING: /Users/runner/work/xgboost/xgboost/src/learner.cc:738: \n",
      "Parameters: { \"use_label_encoder\" } are not used.\n",
      "\n",
      "  bst.update(dtrain, iteration=i, fobj=obj)\n",
      "/opt/anaconda3/lib/python3.12/site-packages/xgboost/training.py:183: UserWarning: [20:32:30] WARNING: /Users/runner/work/xgboost/xgboost/src/learner.cc:738: \n",
      "Parameters: { \"use_label_encoder\" } are not used.\n",
      "\n",
      "  bst.update(dtrain, iteration=i, fobj=obj)\n",
      "/opt/anaconda3/lib/python3.12/site-packages/xgboost/training.py:183: UserWarning: [20:32:30] WARNING: /Users/runner/work/xgboost/xgboost/src/learner.cc:738: \n",
      "Parameters: { \"use_label_encoder\" } are not used.\n",
      "\n",
      "  bst.update(dtrain, iteration=i, fobj=obj)\n",
      "/opt/anaconda3/lib/python3.12/site-packages/xgboost/training.py:183: UserWarning: [20:32:30] WARNING: /Users/runner/work/xgboost/xgboost/src/learner.cc:738: \n",
      "Parameters: { \"use_label_encoder\" } are not used.\n",
      "\n",
      "  bst.update(dtrain, iteration=i, fobj=obj)\n"
     ]
    },
    {
     "name": "stdout",
     "output_type": "stream",
     "text": [
      "Method used: XGBoost in Python via scikit-learn and 5-fold CV\n",
      "Dataset size: 10000\n",
      "Testing-set predictive performance (Accuracy): 0.9746\n",
      "Time taken for the model to be fit (seconds): 0.76\n"
     ]
    },
    {
     "name": "stderr",
     "output_type": "stream",
     "text": [
      "/opt/anaconda3/lib/python3.12/site-packages/xgboost/training.py:183: UserWarning: [20:32:30] WARNING: /Users/runner/work/xgboost/xgboost/src/learner.cc:738: \n",
      "Parameters: { \"use_label_encoder\" } are not used.\n",
      "\n",
      "  bst.update(dtrain, iteration=i, fobj=obj)\n"
     ]
    }
   ],
   "source": [
    "# sample of 10000 rows (with seed 123)\n",
    "sample_df = df_data.sample(n=10000, random_state=123)\n",
    "\n",
    "sample_df = sample_df.drop('NA', axis=1)\n",
    "# Separating features and labels\n",
    "X = sample_df.drop('outcome', axis=1)\n",
    "y = sample_df['outcome']\n",
    "\n",
    "# Defining XGBoost model\n",
    "model = XGBClassifier(\n",
    "    use_label_encoder=False,\n",
    "    eval_metric='logloss'\n",
    ")\n",
    "\n",
    "# Setup of 5-fold cross-validation\n",
    "#kfold = StratifiedKFold(n_splits=5, shuffle=True, random_state=123)\n",
    "\n",
    "# Measuring time and perform CV\n",
    "start = time.time()\n",
    "\n",
    "cv_results = cross_val_score(model, X, y, cv=5, scoring='accuracy')\n",
    "\n",
    "end = time.time()\n",
    "\n",
    "# Getting the results\n",
    "print(\"Method used: XGBoost in Python via scikit-learn and 5-fold CV\")\n",
    "print(\"Dataset size: 10000\")\n",
    "print(f\"Testing-set predictive performance (Accuracy): {cv_results.mean():.4f}\")\n",
    "print(f\"Time taken for the model to be fit (seconds): {round(end - start, 2)}\")\n"
   ]
  },
  {
   "cell_type": "markdown",
   "id": "4140c689-1eb0-452e-a6f9-374d85cd5a0c",
   "metadata": {},
   "source": [
    "This code samples 100000 rows from a dataset, drops an unnecessary column, separates features and target, defines an XGBoost classifier, and performs 5-fold cross-validation to evaluate model accuracy. It measures the time taken for training and prints the method used, dataset size, predictive performance, and fitting time for reporting."
   ]
  },
  {
   "cell_type": "code",
   "execution_count": 59,
   "id": "ff87c912-030a-4ae2-a720-601ebf095afd",
   "metadata": {},
   "outputs": [
    {
     "name": "stderr",
     "output_type": "stream",
     "text": [
      "/opt/anaconda3/lib/python3.12/site-packages/xgboost/training.py:183: UserWarning: [20:35:17] WARNING: /Users/runner/work/xgboost/xgboost/src/learner.cc:738: \n",
      "Parameters: { \"use_label_encoder\" } are not used.\n",
      "\n",
      "  bst.update(dtrain, iteration=i, fobj=obj)\n",
      "/opt/anaconda3/lib/python3.12/site-packages/xgboost/training.py:183: UserWarning: [20:35:18] WARNING: /Users/runner/work/xgboost/xgboost/src/learner.cc:738: \n",
      "Parameters: { \"use_label_encoder\" } are not used.\n",
      "\n",
      "  bst.update(dtrain, iteration=i, fobj=obj)\n",
      "/opt/anaconda3/lib/python3.12/site-packages/xgboost/training.py:183: UserWarning: [20:35:19] WARNING: /Users/runner/work/xgboost/xgboost/src/learner.cc:738: \n",
      "Parameters: { \"use_label_encoder\" } are not used.\n",
      "\n",
      "  bst.update(dtrain, iteration=i, fobj=obj)\n",
      "/opt/anaconda3/lib/python3.12/site-packages/xgboost/training.py:183: UserWarning: [20:35:21] WARNING: /Users/runner/work/xgboost/xgboost/src/learner.cc:738: \n",
      "Parameters: { \"use_label_encoder\" } are not used.\n",
      "\n",
      "  bst.update(dtrain, iteration=i, fobj=obj)\n",
      "/opt/anaconda3/lib/python3.12/site-packages/xgboost/training.py:183: UserWarning: [20:35:21] WARNING: /Users/runner/work/xgboost/xgboost/src/learner.cc:738: \n",
      "Parameters: { \"use_label_encoder\" } are not used.\n",
      "\n",
      "  bst.update(dtrain, iteration=i, fobj=obj)\n"
     ]
    },
    {
     "name": "stdout",
     "output_type": "stream",
     "text": [
      "Method used: XGBoost in Python via scikit-learn and 5-fold CV\n",
      "Dataset size: 100000\n",
      "Testing-set predictive performance (Accuracy): 0.9871\n",
      "Time taken for the model to be fit (seconds): 5.99\n"
     ]
    }
   ],
   "source": [
    "# sample of 100000 rows (with seed 123)\n",
    "sample_df = df_data.sample(n=100000, random_state=123)\n",
    "\n",
    "sample_df = sample_df.drop('NA', axis=1)\n",
    "# Separating features and labels\n",
    "X = sample_df.drop('outcome', axis=1)\n",
    "y = sample_df['outcome']\n",
    "\n",
    "# Defining XGBoost model\n",
    "model = XGBClassifier(\n",
    "    use_label_encoder=False,\n",
    "    eval_metric='logloss'\n",
    ")\n",
    "\n",
    "# Setup of 5-fold cross-validation\n",
    "#kfold = StratifiedKFold(n_splits=5, shuffle=True, random_state=123)\n",
    "\n",
    "# Measuring time and perform CV\n",
    "start = time.time()\n",
    "\n",
    "cv_results = cross_val_score(model, X, y, cv=5, scoring='accuracy')\n",
    "\n",
    "end = time.time()\n",
    "\n",
    "# Getting the results\n",
    "print(\"Method used: XGBoost in Python via scikit-learn and 5-fold CV\")\n",
    "print(\"Dataset size: 100000\")\n",
    "print(f\"Testing-set predictive performance (Accuracy): {cv_results.mean():.4f}\")\n",
    "print(f\"Time taken for the model to be fit (seconds): {round(end - start, 2)}\")\n"
   ]
  },
  {
   "cell_type": "markdown",
   "id": "1f23179e-7cc5-4795-90a7-f804de101b39",
   "metadata": {},
   "source": [
    "This code samples 1000000 rows from a dataset, drops an unnecessary column, separates features and target, \n",
    "defines an XGBoost classifier, and performs 5-fold cross-validation to evaluate model accuracy. \n",
    "It measures the time taken for training and prints the method used, dataset size, predictive performance, and fitting time for reporting."
   ]
  },
  {
   "cell_type": "code",
   "execution_count": 61,
   "id": "fc6c320e-f2cc-454c-b57e-e5abbbdec47e",
   "metadata": {},
   "outputs": [
    {
     "name": "stderr",
     "output_type": "stream",
     "text": [
      "/opt/anaconda3/lib/python3.12/site-packages/xgboost/training.py:183: UserWarning: [20:36:12] WARNING: /Users/runner/work/xgboost/xgboost/src/learner.cc:738: \n",
      "Parameters: { \"use_label_encoder\" } are not used.\n",
      "\n",
      "  bst.update(dtrain, iteration=i, fobj=obj)\n",
      "/opt/anaconda3/lib/python3.12/site-packages/xgboost/training.py:183: UserWarning: [20:36:19] WARNING: /Users/runner/work/xgboost/xgboost/src/learner.cc:738: \n",
      "Parameters: { \"use_label_encoder\" } are not used.\n",
      "\n",
      "  bst.update(dtrain, iteration=i, fobj=obj)\n",
      "/opt/anaconda3/lib/python3.12/site-packages/xgboost/training.py:183: UserWarning: [20:36:24] WARNING: /Users/runner/work/xgboost/xgboost/src/learner.cc:738: \n",
      "Parameters: { \"use_label_encoder\" } are not used.\n",
      "\n",
      "  bst.update(dtrain, iteration=i, fobj=obj)\n",
      "/opt/anaconda3/lib/python3.12/site-packages/xgboost/training.py:183: UserWarning: [20:36:30] WARNING: /Users/runner/work/xgboost/xgboost/src/learner.cc:738: \n",
      "Parameters: { \"use_label_encoder\" } are not used.\n",
      "\n",
      "  bst.update(dtrain, iteration=i, fobj=obj)\n",
      "/opt/anaconda3/lib/python3.12/site-packages/xgboost/training.py:183: UserWarning: [20:36:35] WARNING: /Users/runner/work/xgboost/xgboost/src/learner.cc:738: \n",
      "Parameters: { \"use_label_encoder\" } are not used.\n",
      "\n",
      "  bst.update(dtrain, iteration=i, fobj=obj)\n"
     ]
    },
    {
     "name": "stdout",
     "output_type": "stream",
     "text": [
      "Method used: XGBoost in Python via scikit-learn and 5-fold CV\n",
      "Dataset size: 1000000\n",
      "Testing-set predictive performance (Accuracy): 0.9917\n",
      "Time taken for the model to be fit (seconds): 28.21\n"
     ]
    }
   ],
   "source": [
    "# sample of 1000000 rows (with seed 123)\n",
    "sample_df = df_data.sample(n=1000000, random_state=123)\n",
    "\n",
    "sample_df = sample_df.drop('NA', axis=1)\n",
    "# Separating features and labels\n",
    "X = sample_df.drop('outcome', axis=1)\n",
    "y = sample_df['outcome']\n",
    "\n",
    "# Defining XGBoost model\n",
    "model = XGBClassifier(\n",
    "    use_label_encoder=False,\n",
    "    eval_metric='logloss'\n",
    ")\n",
    "\n",
    "# Setup of 5-fold cross-validation\n",
    "#kfold = StratifiedKFold(n_splits=5, shuffle=True, random_state=123)\n",
    "\n",
    "# Measuring time and perform CV\n",
    "start = time.time()\n",
    "\n",
    "cv_results = cross_val_score(model, X, y, cv=5, scoring='accuracy')\n",
    "\n",
    "end = time.time()\n",
    "\n",
    "# Getting the results\n",
    "print(\"Method used: XGBoost in Python via scikit-learn and 5-fold CV\")\n",
    "print(\"Dataset size: 1000000\")\n",
    "print(f\"Testing-set predictive performance (Accuracy): {cv_results.mean():.4f}\")\n",
    "print(f\"Time taken for the model to be fit (seconds): {round(end - start, 2)}\")\n"
   ]
  },
  {
   "cell_type": "markdown",
   "id": "72bc0c8f-0bc0-4a7b-a0fa-2d646274bf8d",
   "metadata": {},
   "source": [
    "This code samples 10000000 rows from a dataset, drops an unnecessary column, separates features and target, defines an XGBoost classifier, and performs 5-fold cross-validation to evaluate model accuracy. It measures the time taken for training and prints the method used, dataset size, predictive performance, and fitting time for reporting."
   ]
  },
  {
   "cell_type": "code",
   "execution_count": 63,
   "id": "bd1075c4-c05f-493d-ac4b-d9add0aa46d1",
   "metadata": {},
   "outputs": [
    {
     "name": "stderr",
     "output_type": "stream",
     "text": [
      "/opt/anaconda3/lib/python3.12/site-packages/xgboost/training.py:183: UserWarning: [20:37:28] WARNING: /Users/runner/work/xgboost/xgboost/src/learner.cc:738: \n",
      "Parameters: { \"use_label_encoder\" } are not used.\n",
      "\n",
      "  bst.update(dtrain, iteration=i, fobj=obj)\n",
      "/opt/anaconda3/lib/python3.12/site-packages/xgboost/training.py:183: UserWarning: [20:38:22] WARNING: /Users/runner/work/xgboost/xgboost/src/learner.cc:738: \n",
      "Parameters: { \"use_label_encoder\" } are not used.\n",
      "\n",
      "  bst.update(dtrain, iteration=i, fobj=obj)\n",
      "/opt/anaconda3/lib/python3.12/site-packages/xgboost/training.py:183: UserWarning: [20:39:14] WARNING: /Users/runner/work/xgboost/xgboost/src/learner.cc:738: \n",
      "Parameters: { \"use_label_encoder\" } are not used.\n",
      "\n",
      "  bst.update(dtrain, iteration=i, fobj=obj)\n",
      "/opt/anaconda3/lib/python3.12/site-packages/xgboost/training.py:183: UserWarning: [20:40:06] WARNING: /Users/runner/work/xgboost/xgboost/src/learner.cc:738: \n",
      "Parameters: { \"use_label_encoder\" } are not used.\n",
      "\n",
      "  bst.update(dtrain, iteration=i, fobj=obj)\n",
      "/opt/anaconda3/lib/python3.12/site-packages/xgboost/training.py:183: UserWarning: [20:40:59] WARNING: /Users/runner/work/xgboost/xgboost/src/learner.cc:738: \n",
      "Parameters: { \"use_label_encoder\" } are not used.\n",
      "\n",
      "  bst.update(dtrain, iteration=i, fobj=obj)\n"
     ]
    },
    {
     "name": "stdout",
     "output_type": "stream",
     "text": [
      "Method used: XGBoost in Python via scikit-learn and 5-fold CV\n",
      "Dataset size: 10000000\n",
      "Testing-set predictive performance (Accuracy): 0.9931\n",
      "Time taken for the model to be fit (seconds): 267.17\n"
     ]
    }
   ],
   "source": [
    "# sample of 10000000 rows (with seed 123)\n",
    "sample_df = df_data.sample(n=10000000, random_state=123)\n",
    "\n",
    "sample_df = sample_df.drop('NA', axis=1)\n",
    "# Separating features and labels\n",
    "X = sample_df.drop('outcome', axis=1)\n",
    "y = sample_df['outcome']\n",
    "\n",
    "# Defining XGBoost model\n",
    "model = XGBClassifier(\n",
    "    use_label_encoder=False,\n",
    "    eval_metric='logloss'\n",
    ")\n",
    "\n",
    "# Setup of 5-fold cross-validation\n",
    "#kfold = StratifiedKFold(n_splits=5, shuffle=True, random_state=123)\n",
    "\n",
    "# Measuring time and perform CV\n",
    "start = time.time()\n",
    "\n",
    "cv_results = cross_val_score(model, X, y, cv=5, scoring='accuracy')\n",
    "\n",
    "end = time.time()\n",
    "\n",
    "# Getting the results\n",
    "print(\"Method used: XGBoost in Python via scikit-learn and 5-fold CV\")\n",
    "print(\"Dataset size: 10000000\")\n",
    "print(f\"Testing-set predictive performance (Accuracy): {cv_results.mean():.4f}\")\n",
    "print(f\"Time taken for the model to be fit (seconds): {round(end - start, 2)}\")\n"
   ]
  },
  {
   "cell_type": "markdown",
   "id": "acbc8499-0f0d-498e-855d-7b7d63263ad5",
   "metadata": {},
   "source": [
    "The summary of the results are summarised in the pdf."
   ]
  },
  {
   "cell_type": "code",
   "execution_count": null,
   "id": "a51fa4ae-6cdb-4029-b2c4-ecc9cf765bd8",
   "metadata": {},
   "outputs": [],
   "source": []
  }
 ],
 "metadata": {
  "kernelspec": {
   "display_name": "Python [conda env:base] *",
   "language": "python",
   "name": "conda-base-py"
  },
  "language_info": {
   "codemirror_mode": {
    "name": "ipython",
    "version": 3
   },
   "file_extension": ".py",
   "mimetype": "text/x-python",
   "name": "python",
   "nbconvert_exporter": "python",
   "pygments_lexer": "ipython3",
   "version": "3.12.7"
  }
 },
 "nbformat": 4,
 "nbformat_minor": 5
}
