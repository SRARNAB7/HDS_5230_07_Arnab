{
  "nbformat": 4,
  "nbformat_minor": 0,
  "metadata": {
    "colab": {
      "provenance": [],
      "authorship_tag": "ABX9TyNvkE22gUoF6fHCwR1WTiQm",
      "include_colab_link": true
    },
    "kernelspec": {
      "name": "python3",
      "display_name": "Python 3"
    },
    "language_info": {
      "name": "python"
    }
  },
  "cells": [
    {
      "cell_type": "markdown",
      "metadata": {
        "id": "view-in-github",
        "colab_type": "text"
      },
      "source": [
        "<a href=\"https://colab.research.google.com/github/SRARNAB7/HDS_5230_07_Arnab/blob/main/Genetic_Algorithm_FQHC.ipynb\" target=\"_parent\"><img src=\"https://colab.research.google.com/assets/colab-badge.svg\" alt=\"Open In Colab\"/></a>"
      ]
    },
    {
      "cell_type": "code",
      "execution_count": null,
      "metadata": {
        "id": "K-34OtGPffjk"
      },
      "outputs": [],
      "source": [
        "import geopandas as gpd\n",
        "def fitness(pop_gdf,gdf,scale_factor=10):\n",
        "  gdf[\"fqhc_geom\"]= gdf.geometry\n",
        "\n",
        "  closest_fqhc= gpd.sjoin_nearest(\n",
        "      pop_gdf,\n",
        "      gdf,\n",
        "      lsuffix= \"_pop\",\n",
        "      rsuffix= \"_fqhc\",\n",
        "      distance_col= \"dist\"\n",
        "  )\n",
        "\n",
        "  #Calculate the distance\n",
        "  avg_distance = closest_fqhc['dist'].mean()\n",
        "\n",
        "  return avg_distance/scale_factor\n"
      ]
    },
    {
      "cell_type": "code",
      "source": [
        "def generate_population_samples(gdf, pop_size, sample_n=8):\n",
        "  samples=[]\n",
        "  for i in range(pop_size):\n",
        "\n",
        "    subset = gdf.sample(n=sample_n)\n",
        "    samples.append(subset)\n",
        "\n",
        "  return samples"
      ],
      "metadata": {
        "id": "0CF35WBHkOv6"
      },
      "execution_count": null,
      "outputs": []
    },
    {
      "cell_type": "code",
      "source": [
        "import random\n",
        "\n",
        "def peform_selection(samples,pop_gdf,tournament_size=4):\n",
        "\n",
        "  if tournament_size> len(samples):\n",
        "    raise ValueError(\"Tournament size cannot be greater than the population size\")\n",
        "\n",
        "  tournament= random.sample(samples,tournament_size)\n",
        "\n",
        "  tournament.sort(key= lambda x: fitness(x,pop_gdf))\n",
        "\n",
        "  retrun tournament[:2]"
      ],
      "metadata": {
        "id": "W6N56HJIneBn"
      },
      "execution_count": null,
      "outputs": []
    },
    {
      "cell_type": "code",
      "source": [
        "import pandas as pd\n",
        "import random\n",
        "\n",
        "def crossover(parent1,parent2,gdf,crossover_rate =0.9):\n",
        "\n",
        "  if random.random() < crossover_rate:\n",
        "    # Perform crossover: take half from parent1 and half from parent2\n",
        "    half= len(parent1)//2\n",
        "    child_fqhc= pd.concat([parent1.iloc[:half],parent2.iloc[half:]]).drop_duplicates()\n",
        "\n",
        "    while(len(child)fqhc) < 8:\n",
        "      additional_fqhc = gdf.sample(1) # Pick a random FQHC\n",
        "      child_fqhc= pd.concat([child_fqhc,additional_fqhc]).drop_duplicates()\n",
        "\n",
        "  else:\n",
        "    # No crossover, just copy one of the parents\n",
        "    child_fqhc = parent1.copy()\n",
        "\n",
        "  return child_fqhc.reset_index(drop= True)"
      ],
      "metadata": {
        "id": "8cucgrUst9XY"
      },
      "execution_count": null,
      "outputs": []
    },
    {
      "cell_type": "code",
      "source": [],
      "metadata": {
        "id": "IGMN_Zmbv_oJ"
      },
      "execution_count": null,
      "outputs": []
    }
  ]
}