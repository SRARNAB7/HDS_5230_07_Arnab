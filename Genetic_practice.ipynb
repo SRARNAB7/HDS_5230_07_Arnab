{
  "nbformat": 4,
  "nbformat_minor": 0,
  "metadata": {
    "colab": {
      "provenance": [],
      "authorship_tag": "ABX9TyPtwLPaJROwgAnpk9e7MMwu",
      "include_colab_link": true
    },
    "kernelspec": {
      "name": "python3",
      "display_name": "Python 3"
    },
    "language_info": {
      "name": "python"
    }
  },
  "cells": [
    {
      "cell_type": "markdown",
      "metadata": {
        "id": "view-in-github",
        "colab_type": "text"
      },
      "source": [
        "<a href=\"https://colab.research.google.com/github/SRARNAB7/HDS_5230_07_Arnab/blob/main/Genetic_practice.ipynb\" target=\"_parent\"><img src=\"https://colab.research.google.com/assets/colab-badge.svg\" alt=\"Open In Colab\"/></a>"
      ]
    },
    {
      "cell_type": "code",
      "execution_count": 9,
      "metadata": {
        "id": "xcQa7t8Mw1Ht",
        "colab": {
          "base_uri": "https://localhost:8080/"
        },
        "outputId": "f77a7684-1f94-4807-e217-6880644b561a"
      },
      "outputs": [
        {
          "output_type": "stream",
          "name": "stdout",
          "text": [
            "Gen ===0 best solutions ===\n",
            "(6.882690980946854e-07, (61.380755270039614, 48.07990113517735, 495.4695364146231))\n",
            "Gen ===1 best solutions ===\n",
            "(1.7967271265561414e-05, (18.91048191609084, 0.26385040085589806, 167.84533134556548))\n",
            "Gen ===2 best solutions ===\n",
            "(0.00021838988447612855, (0.2648480652332355, 4.575926941185788, 49.060035870255795))\n",
            "Gen ===3 best solutions ===\n",
            "(0.0015661048219459577, (0.26361662341946035, 8.430665399473543, 0.2636874853004123))\n",
            "Gen ===4 best solutions ===\n",
            "(2.1488744682324725, (0.26495565683907224, 0.25540100663833337, 0.264844125871406))\n",
            "Gen ===5 best solutions ===\n",
            "(70.1385872381702, (0.2589746881907394, 0.26601192569610105, 0.2697020341278612))\n",
            "Gen ===6 best solutions ===\n",
            "(390.0176370448937, (0.2629255404326578, 0.26480195805975854, 0.2695255479722418))\n",
            "Gen ===7 best solutions ===\n",
            "(1351.5892059973137, (0.2681421586394032, 0.2690024164905613, 0.26924802836425))\n"
          ]
        }
      ],
      "source": [
        "import random\n",
        "def foo(x,y,z):\n",
        "    return 6*x**3 + 9*y**2 + 90*z -25\n",
        "\n",
        "def fitness(x,y,z):\n",
        "  ans= foo(x,y,z)\n",
        "\n",
        "  if ans==0:\n",
        "    return 99999\n",
        "  else:\n",
        "    return abs(1/ans)\n",
        "\n",
        "#generate the solutions\n",
        "\n",
        "solutions=[]\n",
        "\n",
        "for s in range(10000):\n",
        "  solutions.append((random.uniform(0,10000),\n",
        "                   random.uniform(0,10000),\n",
        "                   random.uniform(0,1000)))\n",
        "\n",
        "#print(solutions[:2])\n",
        "\n",
        "for i in range(10000):\n",
        "\n",
        "  ranked_solutions=[]\n",
        "  for s in solutions:\n",
        "    ranked_solutions.append((fitness(s[0],s[1],s[2]),s))\n",
        "  ranked_solutions.sort()\n",
        "  ranked_solutions.reverse()\n",
        "\n",
        "  print(f\"Gen ==={i} best solutions ===\")\n",
        "  print(ranked_solutions[0])\n",
        "\n",
        "  best_solutions= ranked_solutions[:100]\n",
        "\n",
        "  if ranked_solutions[0][0]>999:\n",
        "    break\n",
        "\n",
        "  elements=[]\n",
        "\n",
        "  for s in best_solutions:\n",
        "    elements.append(s[1][0])\n",
        "    elements.append(s[1][1])\n",
        "    elements.append(s[1][2])\n",
        "\n",
        "  newGen=[]\n",
        "\n",
        "  for _ in range(1000):\n",
        "    e1= random.choice(elements)* random.uniform(0.99,1.01)\n",
        "    e2= random.choice(elements)* random.uniform(0.99,1.01)\n",
        "    e3= random.choice(elements)* random.uniform(0.99,1.01)\n",
        "\n",
        "    newGen.append((e1,e2,e3))\n",
        "\n",
        "  solutions= newGen\n",
        "\n",
        "\n",
        "\n"
      ]
    }
  ]
}