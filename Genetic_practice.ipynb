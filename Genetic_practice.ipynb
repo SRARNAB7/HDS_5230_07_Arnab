{
  "nbformat": 4,
  "nbformat_minor": 0,
  "metadata": {
    "colab": {
      "provenance": [],
      "authorship_tag": "ABX9TyMnZvH6a3xkVyaMGYuERjqe",
      "include_colab_link": true
    },
    "kernelspec": {
      "name": "python3",
      "display_name": "Python 3"
    },
    "language_info": {
      "name": "python"
    }
  },
  "cells": [
    {
      "cell_type": "markdown",
      "metadata": {
        "id": "view-in-github",
        "colab_type": "text"
      },
      "source": [
        "<a href=\"https://colab.research.google.com/github/SRARNAB7/HDS_5230_07_Arnab/blob/main/Genetic_practice.ipynb\" target=\"_parent\"><img src=\"https://colab.research.google.com/assets/colab-badge.svg\" alt=\"Open In Colab\"/></a>"
      ]
    },
    {
      "cell_type": "code",
      "execution_count": 4,
      "metadata": {
        "id": "xcQa7t8Mw1Ht",
        "colab": {
          "base_uri": "https://localhost:8080/"
        },
        "outputId": "5b458a39-d815-4b96-c932-df466928f817"
      },
      "outputs": [
        {
          "output_type": "stream",
          "name": "stdout",
          "text": [
            "[(5656.531748741318, 9000.639824696078, 205.51311223431634), (8048.999908739208, 6389.198964329628, 834.776782901194)]\n"
          ]
        }
      ],
      "source": [
        "import random\n",
        "def foo(x,y,z):\n",
        "    return 6*x**3 + 9*y**2 + 90*z -25\n",
        "\n",
        "def fitness(x,y,z):\n",
        "  ans= foo(x,y,z)\n",
        "\n",
        "  if ans==0:\n",
        "    return 99999\n",
        "  else:\n",
        "    return abs(1/ans)\n",
        "\n",
        "#generate the solutions\n",
        "\n",
        "solutions=[]\n",
        "\n",
        "for s in range(10000):\n",
        "  solutions.append((random.uniform(0,10000),\n",
        "                   random.uniform(0,10000),\n",
        "                   random.uniform(0,1000)))\n",
        "\n",
        "print(solutions[:2])\n",
        "\n",
        "\n",
        "\n"
      ]
    }
  ]
}