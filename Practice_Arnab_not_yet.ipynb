{
  "nbformat": 4,
  "nbformat_minor": 0,
  "metadata": {
    "colab": {
      "provenance": [],
      "authorship_tag": "ABX9TyPXhncryQxjKmEuAjiEVezs",
      "include_colab_link": true
    },
    "kernelspec": {
      "name": "python3",
      "display_name": "Python 3"
    },
    "language_info": {
      "name": "python"
    }
  },
  "cells": [
    {
      "cell_type": "markdown",
      "metadata": {
        "id": "view-in-github",
        "colab_type": "text"
      },
      "source": [
        "<a href=\"https://colab.research.google.com/github/SRARNAB7/HDS_5230_07_Arnab/blob/main/Practice_Arnab_not_yet.ipynb\" target=\"_parent\"><img src=\"https://colab.research.google.com/assets/colab-badge.svg\" alt=\"Open In Colab\"/></a>"
      ]
    },
    {
      "cell_type": "code",
      "execution_count": null,
      "metadata": {
        "id": "tscy-QVQx7y7"
      },
      "outputs": [],
      "source": [
        "numbers = [30, 10, -45, 5, 20]\n",
        "\n",
        "def maximum_number(numbers):\n",
        "  # Initialize max with the first element of the list\n",
        "  max_num = numbers[0]\n",
        "\n",
        "  # Iterate through the list starting from the second element\n",
        "  for i in range(1, len(numbers)):\n",
        "    if numbers[i] > max_num:\n",
        "      max_num = numbers[i]\n",
        "  return max_num"
      ]
    },
    {
      "cell_type": "code",
      "source": [
        "maximum_number(numbers)"
      ],
      "metadata": {
        "colab": {
          "base_uri": "https://localhost:8080/"
        },
        "id": "LCPpBZr-KWVm",
        "outputId": "b3870fb2-47b1-4219-ae26-1591f49a31a7"
      },
      "execution_count": null,
      "outputs": [
        {
          "output_type": "execute_result",
          "data": {
            "text/plain": [
              "30"
            ]
          },
          "metadata": {},
          "execution_count": 2
        }
      ]
    },
    {
      "cell_type": "code",
      "source": [
        "import pandas as pd\n",
        "\n",
        "# Employee table\n",
        "employee = pd.DataFrame({\n",
        "    'id': [1, 2, 3, 4, 5],\n",
        "    'name': ['Joe', 'Jim', 'Henry', 'Sam', 'Max'],\n",
        "    'salary': [70000, 90000, 80000, 60000, 90000],\n",
        "    'departmentId': [1, 1, 2, 2, 1]\n",
        "})\n",
        "\n",
        "# Department table\n",
        "department = pd.DataFrame({\n",
        "    'id': [1, 2],\n",
        "    'name': ['IT', 'Sales']\n",
        "})\n",
        "\n",
        "merge_df = employee.merge(department, how= 'left', left_on ='departmentId', right_on='id', suffixes= ('','_dept'))\n",
        "#print(merge_df)\n",
        "\n",
        "max_salary = merge_df.groupby('name_dept')['salary'].transform('max')\n",
        "#print(max_salary)\n",
        "result = merge_df[merge_df['salary']== max_salary][['name_dept','name','salary']]\n",
        "\n",
        "result.columns = ['Department','Employee','Salary']\n",
        "\n",
        "print(result)"
      ],
      "metadata": {
        "id": "M5ZOchjg5xdP",
        "outputId": "d92fb140-fbfc-48f8-f0db-a9c0835ca85a",
        "colab": {
          "base_uri": "https://localhost:8080/"
        }
      },
      "execution_count": null,
      "outputs": [
        {
          "output_type": "stream",
          "name": "stdout",
          "text": [
            "  Department Employee  Salary\n",
            "1         IT      Jim   90000\n",
            "2      Sales    Henry   80000\n",
            "4         IT      Max   90000\n"
          ]
        }
      ]
    },
    {
      "cell_type": "code",
      "source": [
        "import pandas as pd\n",
        "\n",
        "# Sample data\n",
        "data = {\n",
        "    'id': [101, 102, 103, 104, 105, 106],\n",
        "    'name': ['John', 'Dan', 'James', 'Amy', 'Anne', 'Ron'],\n",
        "    'department': ['A', 'A', 'A', 'A', 'A', 'B'],\n",
        "    'managerId': [None, 101, 101, 101, 101, 101]\n",
        "}\n",
        "\n",
        "df = pd.DataFrame(data)\n",
        "# Count direct reports per manager\n",
        "manager_counts = df['managerId'].value_counts()\n",
        "print(manager_counts)\n",
        "\n",
        "managers_with_5_reports = manager_counts[manager_counts >= 5].index\n",
        "\n",
        "result = df[df['']]"
      ],
      "metadata": {
        "id": "k4oQvp-UFW4z",
        "outputId": "d4ab4525-8cf4-4153-fd99-a7d392d54cda",
        "colab": {
          "base_uri": "https://localhost:8080/"
        }
      },
      "execution_count": null,
      "outputs": [
        {
          "output_type": "stream",
          "name": "stdout",
          "text": [
            "managerId\n",
            "101.0    5\n",
            "Name: count, dtype: int64\n"
          ]
        }
      ]
    },
    {
      "cell_type": "code",
      "source": [
        "families = {\n",
        "  'Boal': ['Paul', 'Anny', 'Jim'],\n",
        "  'Lester-Boal': ['Ellie', 'Ada', 'Teddy'],\n",
        "  'Lester': ['Sarahlynn', 'Jessica', 'Grace', 'Carolynn']\n",
        "}\n",
        "\n",
        "family_list=[]\n",
        "\n",
        "for key,values in families.items():\n",
        "  for value in values:\n",
        "    family_list.append([key,value])\n",
        "\n",
        "print(family_list)"
      ],
      "metadata": {
        "id": "t_M7jsZsHgco",
        "outputId": "339c0c3c-0616-4554-eb6e-2de3c3bc9d24",
        "colab": {
          "base_uri": "https://localhost:8080/"
        }
      },
      "execution_count": 2,
      "outputs": [
        {
          "output_type": "stream",
          "name": "stdout",
          "text": [
            "[['Boal', 'Paul'], ['Boal', 'Anny'], ['Boal', 'Jim'], ['Lester-Boal', 'Ellie'], ['Lester-Boal', 'Ada'], ['Lester-Boal', 'Teddy'], ['Lester', 'Sarahlynn'], ['Lester', 'Jessica'], ['Lester', 'Grace'], ['Lester', 'Carolynn']]\n"
          ]
        }
      ]
    },
    {
      "cell_type": "code",
      "source": [
        "names = [['Boal', 'Paul'],\n",
        "             ['Duck', 'Donald'],\n",
        "             ['Duck', 'Daisy'],\n",
        "             ['Boal', 'Ada'],\n",
        "             ['Boal', 'Teddy'],\n",
        "             ['Westhus', 'Eric']]\n",
        "\n",
        "name_dict = {}\n",
        "\n",
        "for key,name in names:\n",
        "  if key in name_dict:\n",
        "    name_dict[key].append(name)\n",
        "  else:\n",
        "    name_dict[key] = [name]\n",
        "\n",
        "print(name_dict)"
      ],
      "metadata": {
        "id": "RYGq3P24JfBV",
        "outputId": "6f8b924e-f2ea-4a37-833e-28c726bf8d90",
        "colab": {
          "base_uri": "https://localhost:8080/"
        }
      },
      "execution_count": 5,
      "outputs": [
        {
          "output_type": "stream",
          "name": "stdout",
          "text": [
            "{'Boal': ['Paul', 'Ada', 'Teddy'], 'Duck': ['Donald', 'Daisy'], 'Westhus': ['Eric']}\n"
          ]
        }
      ]
    },
    {
      "cell_type": "code",
      "source": [
        "students = [['Alice', 'A'], ['Bob', 'B'], ['Charlie', 'A'], ['David', 'C']]\n",
        "#{'A': ['Alice', 'Charlie'], 'B': ['Bob'], 'C': ['David']}\n",
        "\n",
        "students_dict= {}\n",
        "\n",
        "for name,grade in students:\n",
        "  if grade in students_dict:\n",
        "    students_dict[grade].append(name)\n",
        "  else:\n",
        "    students_dict[grade] = [name]\n",
        "\n",
        "print(students_dict)\n",
        "\n",
        "\n",
        "\n"
      ],
      "metadata": {
        "id": "T3DED0-tLXzo",
        "outputId": "6e66b68f-6e6c-4428-95c3-5b500de77b35",
        "colab": {
          "base_uri": "https://localhost:8080/"
        }
      },
      "execution_count": 8,
      "outputs": [
        {
          "output_type": "stream",
          "name": "stdout",
          "text": [
            "{'A': ['Alice', 'Charlie'], 'B': ['Bob'], 'C': ['David']}\n"
          ]
        }
      ]
    },
    {
      "cell_type": "code",
      "source": [
        "locations = [['USA', 'New York'], ['USA', 'Chicago'], ['France', 'Paris'], ['France', 'Lyon']]\n",
        "#{'USA': ['New York', 'Chicago'], 'France': ['Paris', 'Lyon']}\n",
        "\n",
        "location_dict ={}\n",
        "\n",
        "for country,state in locations:\n",
        "  if country in location_dict:\n",
        "    location_dict[country].append(state)\n",
        "  else:\n",
        "    location_dict[country]= [state]\n",
        "\n",
        "print(location_dict)\n"
      ],
      "metadata": {
        "id": "5nuNSmtBSJLX",
        "outputId": "3a4fd4d6-c18a-438a-c986-0b86547840df",
        "colab": {
          "base_uri": "https://localhost:8080/"
        }
      },
      "execution_count": 9,
      "outputs": [
        {
          "output_type": "stream",
          "name": "stdout",
          "text": [
            "{'USA': ['New York', 'Chicago'], 'France': ['Paris', 'Lyon']}\n"
          ]
        }
      ]
    },
    {
      "cell_type": "code",
      "source": [
        "names = ['Alice Smith', 'Adam Jones', 'Bob Brown', 'Charlie Day']\n",
        "#{'A': ['Alice Smith', 'Adam Jones'], 'B': ['Bob Brown'], 'C': ['Charlie Day']}\n",
        "\n",
        "\n"
      ],
      "metadata": {
        "id": "NyPOlwc0VIwK"
      },
      "execution_count": null,
      "outputs": []
    }
  ]
}