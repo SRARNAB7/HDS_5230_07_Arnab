{
  "nbformat": 4,
  "nbformat_minor": 0,
  "metadata": {
    "colab": {
      "provenance": [],
      "authorship_tag": "ABX9TyPpmOW8IL1Mbh+K2xM4baUE",
      "include_colab_link": true
    },
    "kernelspec": {
      "name": "python3",
      "display_name": "Python 3"
    },
    "language_info": {
      "name": "python"
    }
  },
  "cells": [
    {
      "cell_type": "markdown",
      "metadata": {
        "id": "view-in-github",
        "colab_type": "text"
      },
      "source": [
        "<a href=\"https://colab.research.google.com/github/SRARNAB7/HDS_5230_07_Arnab/blob/main/Practice_Arnab_not_yet.ipynb\" target=\"_parent\"><img src=\"https://colab.research.google.com/assets/colab-badge.svg\" alt=\"Open In Colab\"/></a>"
      ]
    },
    {
      "cell_type": "code",
      "execution_count": 1,
      "metadata": {
        "id": "tscy-QVQx7y7"
      },
      "outputs": [],
      "source": [
        "numbers = [30, 10, -45, 5, 20]\n",
        "\n",
        "def maximum_number(numbers):\n",
        "  # Initialize max with the first element of the list\n",
        "  max_num = numbers[0]\n",
        "\n",
        "  # Iterate through the list starting from the second element\n",
        "  for i in range(1, len(numbers)):\n",
        "    if numbers[i] > max_num:\n",
        "      max_num = numbers[i]\n",
        "  return max_num"
      ]
    },
    {
      "cell_type": "code",
      "source": [
        "maximum_number(numbers)"
      ],
      "metadata": {
        "colab": {
          "base_uri": "https://localhost:8080/"
        },
        "id": "LCPpBZr-KWVm",
        "outputId": "b3870fb2-47b1-4219-ae26-1591f49a31a7"
      },
      "execution_count": 2,
      "outputs": [
        {
          "output_type": "execute_result",
          "data": {
            "text/plain": [
              "30"
            ]
          },
          "metadata": {},
          "execution_count": 2
        }
      ]
    }
  ]
}