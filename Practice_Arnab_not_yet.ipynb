{
  "nbformat": 4,
  "nbformat_minor": 0,
  "metadata": {
    "colab": {
      "provenance": [],
      "authorship_tag": "ABX9TyMyhVdem9DWgNKkqa492FT/",
      "include_colab_link": true
    },
    "kernelspec": {
      "name": "python3",
      "display_name": "Python 3"
    },
    "language_info": {
      "name": "python"
    }
  },
  "cells": [
    {
      "cell_type": "markdown",
      "metadata": {
        "id": "view-in-github",
        "colab_type": "text"
      },
      "source": [
        "<a href=\"https://colab.research.google.com/github/SRARNAB7/HDS_5230_07_Arnab/blob/main/Practice_Arnab_not_yet.ipynb\" target=\"_parent\"><img src=\"https://colab.research.google.com/assets/colab-badge.svg\" alt=\"Open In Colab\"/></a>"
      ]
    },
    {
      "cell_type": "code",
      "execution_count": null,
      "metadata": {
        "id": "tscy-QVQx7y7"
      },
      "outputs": [],
      "source": [
        "numbers = [30, 10, -45, 5, 20]\n",
        "\n",
        "def maximum_number(numbers):\n",
        "  # Initialize max with the first element of the list\n",
        "  max_num = numbers[0]\n",
        "\n",
        "  # Iterate through the list starting from the second element\n",
        "  for i in range(1, len(numbers)):\n",
        "    if numbers[i] > max_num:\n",
        "      max_num = numbers[i]\n",
        "  return max_num"
      ]
    },
    {
      "cell_type": "code",
      "source": [
        "maximum_number(numbers)"
      ],
      "metadata": {
        "colab": {
          "base_uri": "https://localhost:8080/"
        },
        "id": "LCPpBZr-KWVm",
        "outputId": "b3870fb2-47b1-4219-ae26-1591f49a31a7"
      },
      "execution_count": null,
      "outputs": [
        {
          "output_type": "execute_result",
          "data": {
            "text/plain": [
              "30"
            ]
          },
          "metadata": {},
          "execution_count": 2
        }
      ]
    },
    {
      "cell_type": "code",
      "source": [
        "import pandas as pd\n",
        "\n",
        "# Employee table\n",
        "employee = pd.DataFrame({\n",
        "    'id': [1, 2, 3, 4, 5],\n",
        "    'name': ['Joe', 'Jim', 'Henry', 'Sam', 'Max'],\n",
        "    'salary': [70000, 90000, 80000, 60000, 90000],\n",
        "    'departmentId': [1, 1, 2, 2, 1]\n",
        "})\n",
        "\n",
        "# Department table\n",
        "department = pd.DataFrame({\n",
        "    'id': [1, 2],\n",
        "    'name': ['IT', 'Sales']\n",
        "})\n",
        "\n",
        "merge_df = employee.merge(department, how= 'left', left_on ='departmentId', right_on='id', suffixes= ('','_dept'))\n",
        "#print(merge_df)\n",
        "\n",
        "max_salary = merge_df.groupby('name_dept')['salary'].transform('max')\n",
        "#print(max_salary)\n",
        "result = merge_df[merge_df['salary']== max_salary][['name_dept','name','salary']]\n",
        "\n",
        "result.columns = ['Department','Employee','Salary']\n",
        "\n",
        "print(result)"
      ],
      "metadata": {
        "id": "M5ZOchjg5xdP",
        "outputId": "d92fb140-fbfc-48f8-f0db-a9c0835ca85a",
        "colab": {
          "base_uri": "https://localhost:8080/"
        }
      },
      "execution_count": 5,
      "outputs": [
        {
          "output_type": "stream",
          "name": "stdout",
          "text": [
            "  Department Employee  Salary\n",
            "1         IT      Jim   90000\n",
            "2      Sales    Henry   80000\n",
            "4         IT      Max   90000\n"
          ]
        }
      ]
    },
    {
      "cell_type": "code",
      "source": [
        "import pandas as pd\n",
        "\n",
        "# Sample data\n",
        "data = {\n",
        "    'id': [101, 102, 103, 104, 105, 106],\n",
        "    'name': ['John', 'Dan', 'James', 'Amy', 'Anne', 'Ron'],\n",
        "    'department': ['A', 'A', 'A', 'A', 'A', 'B'],\n",
        "    'managerId': [None, 101, 101, 101, 101, 101]\n",
        "}\n",
        "\n",
        "df = pd.DataFrame(data)\n",
        "# Count direct reports per manager\n",
        "manager_counts = df['managerId'].value_counts()\n",
        "print(manager_counts)\n",
        "\n",
        "managers_with_5_reports = manager_counts[manager_counts >= 5].index\n",
        "\n",
        "result = df[df['']]"
      ],
      "metadata": {
        "id": "k4oQvp-UFW4z",
        "outputId": "d4ab4525-8cf4-4153-fd99-a7d392d54cda",
        "colab": {
          "base_uri": "https://localhost:8080/"
        }
      },
      "execution_count": 9,
      "outputs": [
        {
          "output_type": "stream",
          "name": "stdout",
          "text": [
            "managerId\n",
            "101.0    5\n",
            "Name: count, dtype: int64\n"
          ]
        }
      ]
    }
  ]
}