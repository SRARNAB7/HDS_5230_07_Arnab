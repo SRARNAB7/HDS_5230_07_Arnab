{
  "nbformat": 4,
  "nbformat_minor": 0,
  "metadata": {
    "colab": {
      "provenance": [],
      "authorship_tag": "ABX9TyOhLMYJ0Df7Kowyf+ZJ6eKh",
      "include_colab_link": true
    },
    "kernelspec": {
      "name": "python3",
      "display_name": "Python 3"
    },
    "language_info": {
      "name": "python"
    }
  },
  "cells": [
    {
      "cell_type": "markdown",
      "metadata": {
        "id": "view-in-github",
        "colab_type": "text"
      },
      "source": [
        "<a href=\"https://colab.research.google.com/github/SRARNAB7/HDS_5230_07_Arnab/blob/main/Week_3_Assignment.ipynb\" target=\"_parent\"><img src=\"https://colab.research.google.com/assets/colab-badge.svg\" alt=\"Open In Colab\"/></a>"
      ]
    },
    {
      "cell_type": "code",
      "execution_count": 68,
      "metadata": {
        "id": "K4-9NPVvkowu"
      },
      "outputs": [],
      "source": [
        "import pandas as pd\n",
        "import numpy as np\n",
        "from math import *"
      ]
    },
    {
      "cell_type": "markdown",
      "source": [
        "# **Read in the data**"
      ],
      "metadata": {
        "id": "CaamVpu4lhvU"
      }
    },
    {
      "cell_type": "code",
      "source": [
        "#del df\n",
        "df = pd.read_csv('clinics.csv', delimiter='|')\n",
        "df.head()"
      ],
      "metadata": {
        "colab": {
          "base_uri": "https://localhost:8080/",
          "height": 498
        },
        "id": "at_QTSa4lkfF",
        "outputId": "d2a59e2e-1f5e-4fe7-dffa-ea4a98d3a98e"
      },
      "execution_count": 69,
      "outputs": [
        {
          "output_type": "execute_result",
          "data": {
            "text/plain": [
              "   bizID   bizCat                  bizCatSub  \\\n",
              "0      1  Clinics                    Clinics   \n",
              "1      2  Clinics                    Clinics   \n",
              "2      3  Clinics  Clinics & Medical Centers   \n",
              "3      4  Clinics  Clinics & Medical Centers   \n",
              "4      5  Clinics  Clinics & Medical Centers   \n",
              "\n",
              "                                     bizName  \\\n",
              "0                           Hino Ronald H MD   \n",
              "1                         Farmer Joesph F Md   \n",
              "2                             Najjar Fadi Md   \n",
              "3  Kittson Memorial Upper Level Nursing Home   \n",
              "4                       Thompson Robert B Md   \n",
              "\n",
              "                             bizAddr      bizCity bizState  bizZip  \\\n",
              "0  98-151 Pali Momi Street Suite 142         Aiea       HI   96701   \n",
              "1            1225 Breckenridge Drive  Little Rock       AR   72205   \n",
              "2     1155 West Linda Avenue Suite B    Hermiston       OR   97838   \n",
              "3            1010 South Birch Avenue      Hallock       MN   56728   \n",
              "4        100 North Eagle Creek Drive    Lexington       KY   40509   \n",
              "\n",
              "        bizPhone  bizFax  ...                   bizURL locAreaCode  locFIPS  \\\n",
              "0  (808)487-2477     NaN  ...                      NaN         808    15003   \n",
              "1  (501)225-2594     NaN  ...                      NaN         501     5119   \n",
              "2  (541)289-1122     NaN  ...                      NaN         541    41059   \n",
              "3  (218)843-2525     NaN  ...                      NaN         218    27069   \n",
              "4  (859)258-4000     NaN  ...  www.lexingtonclinic.com         859    21067   \n",
              "\n",
              "   locTimeZone locDST   locLat   locLong  locMSA  locPMSA  locCounty  \n",
              "0        PST-2      N  21.3980 -157.8981  3320.0      NaN   Honolulu  \n",
              "1          CST      Y  34.7495  -92.3533  4400.0      NaN    Pulaski  \n",
              "2          PST      Y  45.8456 -119.2817     NaN      NaN   Umatilla  \n",
              "3          CST      Y  48.7954  -97.0090     NaN      NaN    Kittson  \n",
              "4          EST      Y  37.9935  -84.3712  4280.0      NaN    Fayette  \n",
              "\n",
              "[5 rows x 21 columns]"
            ],
            "text/html": [
              "\n",
              "  <div id=\"df-e3f9cf08-87e5-4b39-82f7-c6504a83fdf8\" class=\"colab-df-container\">\n",
              "    <div>\n",
              "<style scoped>\n",
              "    .dataframe tbody tr th:only-of-type {\n",
              "        vertical-align: middle;\n",
              "    }\n",
              "\n",
              "    .dataframe tbody tr th {\n",
              "        vertical-align: top;\n",
              "    }\n",
              "\n",
              "    .dataframe thead th {\n",
              "        text-align: right;\n",
              "    }\n",
              "</style>\n",
              "<table border=\"1\" class=\"dataframe\">\n",
              "  <thead>\n",
              "    <tr style=\"text-align: right;\">\n",
              "      <th></th>\n",
              "      <th>bizID</th>\n",
              "      <th>bizCat</th>\n",
              "      <th>bizCatSub</th>\n",
              "      <th>bizName</th>\n",
              "      <th>bizAddr</th>\n",
              "      <th>bizCity</th>\n",
              "      <th>bizState</th>\n",
              "      <th>bizZip</th>\n",
              "      <th>bizPhone</th>\n",
              "      <th>bizFax</th>\n",
              "      <th>...</th>\n",
              "      <th>bizURL</th>\n",
              "      <th>locAreaCode</th>\n",
              "      <th>locFIPS</th>\n",
              "      <th>locTimeZone</th>\n",
              "      <th>locDST</th>\n",
              "      <th>locLat</th>\n",
              "      <th>locLong</th>\n",
              "      <th>locMSA</th>\n",
              "      <th>locPMSA</th>\n",
              "      <th>locCounty</th>\n",
              "    </tr>\n",
              "  </thead>\n",
              "  <tbody>\n",
              "    <tr>\n",
              "      <th>0</th>\n",
              "      <td>1</td>\n",
              "      <td>Clinics</td>\n",
              "      <td>Clinics</td>\n",
              "      <td>Hino Ronald H MD</td>\n",
              "      <td>98-151 Pali Momi Street Suite 142</td>\n",
              "      <td>Aiea</td>\n",
              "      <td>HI</td>\n",
              "      <td>96701</td>\n",
              "      <td>(808)487-2477</td>\n",
              "      <td>NaN</td>\n",
              "      <td>...</td>\n",
              "      <td>NaN</td>\n",
              "      <td>808</td>\n",
              "      <td>15003</td>\n",
              "      <td>PST-2</td>\n",
              "      <td>N</td>\n",
              "      <td>21.3980</td>\n",
              "      <td>-157.8981</td>\n",
              "      <td>3320.0</td>\n",
              "      <td>NaN</td>\n",
              "      <td>Honolulu</td>\n",
              "    </tr>\n",
              "    <tr>\n",
              "      <th>1</th>\n",
              "      <td>2</td>\n",
              "      <td>Clinics</td>\n",
              "      <td>Clinics</td>\n",
              "      <td>Farmer Joesph F Md</td>\n",
              "      <td>1225 Breckenridge Drive</td>\n",
              "      <td>Little Rock</td>\n",
              "      <td>AR</td>\n",
              "      <td>72205</td>\n",
              "      <td>(501)225-2594</td>\n",
              "      <td>NaN</td>\n",
              "      <td>...</td>\n",
              "      <td>NaN</td>\n",
              "      <td>501</td>\n",
              "      <td>5119</td>\n",
              "      <td>CST</td>\n",
              "      <td>Y</td>\n",
              "      <td>34.7495</td>\n",
              "      <td>-92.3533</td>\n",
              "      <td>4400.0</td>\n",
              "      <td>NaN</td>\n",
              "      <td>Pulaski</td>\n",
              "    </tr>\n",
              "    <tr>\n",
              "      <th>2</th>\n",
              "      <td>3</td>\n",
              "      <td>Clinics</td>\n",
              "      <td>Clinics &amp; Medical Centers</td>\n",
              "      <td>Najjar Fadi Md</td>\n",
              "      <td>1155 West Linda Avenue Suite B</td>\n",
              "      <td>Hermiston</td>\n",
              "      <td>OR</td>\n",
              "      <td>97838</td>\n",
              "      <td>(541)289-1122</td>\n",
              "      <td>NaN</td>\n",
              "      <td>...</td>\n",
              "      <td>NaN</td>\n",
              "      <td>541</td>\n",
              "      <td>41059</td>\n",
              "      <td>PST</td>\n",
              "      <td>Y</td>\n",
              "      <td>45.8456</td>\n",
              "      <td>-119.2817</td>\n",
              "      <td>NaN</td>\n",
              "      <td>NaN</td>\n",
              "      <td>Umatilla</td>\n",
              "    </tr>\n",
              "    <tr>\n",
              "      <th>3</th>\n",
              "      <td>4</td>\n",
              "      <td>Clinics</td>\n",
              "      <td>Clinics &amp; Medical Centers</td>\n",
              "      <td>Kittson Memorial Upper Level Nursing Home</td>\n",
              "      <td>1010 South Birch Avenue</td>\n",
              "      <td>Hallock</td>\n",
              "      <td>MN</td>\n",
              "      <td>56728</td>\n",
              "      <td>(218)843-2525</td>\n",
              "      <td>NaN</td>\n",
              "      <td>...</td>\n",
              "      <td>NaN</td>\n",
              "      <td>218</td>\n",
              "      <td>27069</td>\n",
              "      <td>CST</td>\n",
              "      <td>Y</td>\n",
              "      <td>48.7954</td>\n",
              "      <td>-97.0090</td>\n",
              "      <td>NaN</td>\n",
              "      <td>NaN</td>\n",
              "      <td>Kittson</td>\n",
              "    </tr>\n",
              "    <tr>\n",
              "      <th>4</th>\n",
              "      <td>5</td>\n",
              "      <td>Clinics</td>\n",
              "      <td>Clinics &amp; Medical Centers</td>\n",
              "      <td>Thompson Robert B Md</td>\n",
              "      <td>100 North Eagle Creek Drive</td>\n",
              "      <td>Lexington</td>\n",
              "      <td>KY</td>\n",
              "      <td>40509</td>\n",
              "      <td>(859)258-4000</td>\n",
              "      <td>NaN</td>\n",
              "      <td>...</td>\n",
              "      <td>www.lexingtonclinic.com</td>\n",
              "      <td>859</td>\n",
              "      <td>21067</td>\n",
              "      <td>EST</td>\n",
              "      <td>Y</td>\n",
              "      <td>37.9935</td>\n",
              "      <td>-84.3712</td>\n",
              "      <td>4280.0</td>\n",
              "      <td>NaN</td>\n",
              "      <td>Fayette</td>\n",
              "    </tr>\n",
              "  </tbody>\n",
              "</table>\n",
              "<p>5 rows × 21 columns</p>\n",
              "</div>\n",
              "    <div class=\"colab-df-buttons\">\n",
              "\n",
              "  <div class=\"colab-df-container\">\n",
              "    <button class=\"colab-df-convert\" onclick=\"convertToInteractive('df-e3f9cf08-87e5-4b39-82f7-c6504a83fdf8')\"\n",
              "            title=\"Convert this dataframe to an interactive table.\"\n",
              "            style=\"display:none;\">\n",
              "\n",
              "  <svg xmlns=\"http://www.w3.org/2000/svg\" height=\"24px\" viewBox=\"0 -960 960 960\">\n",
              "    <path d=\"M120-120v-720h720v720H120Zm60-500h600v-160H180v160Zm220 220h160v-160H400v160Zm0 220h160v-160H400v160ZM180-400h160v-160H180v160Zm440 0h160v-160H620v160ZM180-180h160v-160H180v160Zm440 0h160v-160H620v160Z\"/>\n",
              "  </svg>\n",
              "    </button>\n",
              "\n",
              "  <style>\n",
              "    .colab-df-container {\n",
              "      display:flex;\n",
              "      gap: 12px;\n",
              "    }\n",
              "\n",
              "    .colab-df-convert {\n",
              "      background-color: #E8F0FE;\n",
              "      border: none;\n",
              "      border-radius: 50%;\n",
              "      cursor: pointer;\n",
              "      display: none;\n",
              "      fill: #1967D2;\n",
              "      height: 32px;\n",
              "      padding: 0 0 0 0;\n",
              "      width: 32px;\n",
              "    }\n",
              "\n",
              "    .colab-df-convert:hover {\n",
              "      background-color: #E2EBFA;\n",
              "      box-shadow: 0px 1px 2px rgba(60, 64, 67, 0.3), 0px 1px 3px 1px rgba(60, 64, 67, 0.15);\n",
              "      fill: #174EA6;\n",
              "    }\n",
              "\n",
              "    .colab-df-buttons div {\n",
              "      margin-bottom: 4px;\n",
              "    }\n",
              "\n",
              "    [theme=dark] .colab-df-convert {\n",
              "      background-color: #3B4455;\n",
              "      fill: #D2E3FC;\n",
              "    }\n",
              "\n",
              "    [theme=dark] .colab-df-convert:hover {\n",
              "      background-color: #434B5C;\n",
              "      box-shadow: 0px 1px 3px 1px rgba(0, 0, 0, 0.15);\n",
              "      filter: drop-shadow(0px 1px 2px rgba(0, 0, 0, 0.3));\n",
              "      fill: #FFFFFF;\n",
              "    }\n",
              "  </style>\n",
              "\n",
              "    <script>\n",
              "      const buttonEl =\n",
              "        document.querySelector('#df-e3f9cf08-87e5-4b39-82f7-c6504a83fdf8 button.colab-df-convert');\n",
              "      buttonEl.style.display =\n",
              "        google.colab.kernel.accessAllowed ? 'block' : 'none';\n",
              "\n",
              "      async function convertToInteractive(key) {\n",
              "        const element = document.querySelector('#df-e3f9cf08-87e5-4b39-82f7-c6504a83fdf8');\n",
              "        const dataTable =\n",
              "          await google.colab.kernel.invokeFunction('convertToInteractive',\n",
              "                                                    [key], {});\n",
              "        if (!dataTable) return;\n",
              "\n",
              "        const docLinkHtml = 'Like what you see? Visit the ' +\n",
              "          '<a target=\"_blank\" href=https://colab.research.google.com/notebooks/data_table.ipynb>data table notebook</a>'\n",
              "          + ' to learn more about interactive tables.';\n",
              "        element.innerHTML = '';\n",
              "        dataTable['output_type'] = 'display_data';\n",
              "        await google.colab.output.renderOutput(dataTable, element);\n",
              "        const docLink = document.createElement('div');\n",
              "        docLink.innerHTML = docLinkHtml;\n",
              "        element.appendChild(docLink);\n",
              "      }\n",
              "    </script>\n",
              "  </div>\n",
              "\n",
              "\n",
              "<div id=\"df-8fb06b37-103f-4556-b75c-06d826d6ef53\">\n",
              "  <button class=\"colab-df-quickchart\" onclick=\"quickchart('df-8fb06b37-103f-4556-b75c-06d826d6ef53')\"\n",
              "            title=\"Suggest charts\"\n",
              "            style=\"display:none;\">\n",
              "\n",
              "<svg xmlns=\"http://www.w3.org/2000/svg\" height=\"24px\"viewBox=\"0 0 24 24\"\n",
              "     width=\"24px\">\n",
              "    <g>\n",
              "        <path d=\"M19 3H5c-1.1 0-2 .9-2 2v14c0 1.1.9 2 2 2h14c1.1 0 2-.9 2-2V5c0-1.1-.9-2-2-2zM9 17H7v-7h2v7zm4 0h-2V7h2v10zm4 0h-2v-4h2v4z\"/>\n",
              "    </g>\n",
              "</svg>\n",
              "  </button>\n",
              "\n",
              "<style>\n",
              "  .colab-df-quickchart {\n",
              "      --bg-color: #E8F0FE;\n",
              "      --fill-color: #1967D2;\n",
              "      --hover-bg-color: #E2EBFA;\n",
              "      --hover-fill-color: #174EA6;\n",
              "      --disabled-fill-color: #AAA;\n",
              "      --disabled-bg-color: #DDD;\n",
              "  }\n",
              "\n",
              "  [theme=dark] .colab-df-quickchart {\n",
              "      --bg-color: #3B4455;\n",
              "      --fill-color: #D2E3FC;\n",
              "      --hover-bg-color: #434B5C;\n",
              "      --hover-fill-color: #FFFFFF;\n",
              "      --disabled-bg-color: #3B4455;\n",
              "      --disabled-fill-color: #666;\n",
              "  }\n",
              "\n",
              "  .colab-df-quickchart {\n",
              "    background-color: var(--bg-color);\n",
              "    border: none;\n",
              "    border-radius: 50%;\n",
              "    cursor: pointer;\n",
              "    display: none;\n",
              "    fill: var(--fill-color);\n",
              "    height: 32px;\n",
              "    padding: 0;\n",
              "    width: 32px;\n",
              "  }\n",
              "\n",
              "  .colab-df-quickchart:hover {\n",
              "    background-color: var(--hover-bg-color);\n",
              "    box-shadow: 0 1px 2px rgba(60, 64, 67, 0.3), 0 1px 3px 1px rgba(60, 64, 67, 0.15);\n",
              "    fill: var(--button-hover-fill-color);\n",
              "  }\n",
              "\n",
              "  .colab-df-quickchart-complete:disabled,\n",
              "  .colab-df-quickchart-complete:disabled:hover {\n",
              "    background-color: var(--disabled-bg-color);\n",
              "    fill: var(--disabled-fill-color);\n",
              "    box-shadow: none;\n",
              "  }\n",
              "\n",
              "  .colab-df-spinner {\n",
              "    border: 2px solid var(--fill-color);\n",
              "    border-color: transparent;\n",
              "    border-bottom-color: var(--fill-color);\n",
              "    animation:\n",
              "      spin 1s steps(1) infinite;\n",
              "  }\n",
              "\n",
              "  @keyframes spin {\n",
              "    0% {\n",
              "      border-color: transparent;\n",
              "      border-bottom-color: var(--fill-color);\n",
              "      border-left-color: var(--fill-color);\n",
              "    }\n",
              "    20% {\n",
              "      border-color: transparent;\n",
              "      border-left-color: var(--fill-color);\n",
              "      border-top-color: var(--fill-color);\n",
              "    }\n",
              "    30% {\n",
              "      border-color: transparent;\n",
              "      border-left-color: var(--fill-color);\n",
              "      border-top-color: var(--fill-color);\n",
              "      border-right-color: var(--fill-color);\n",
              "    }\n",
              "    40% {\n",
              "      border-color: transparent;\n",
              "      border-right-color: var(--fill-color);\n",
              "      border-top-color: var(--fill-color);\n",
              "    }\n",
              "    60% {\n",
              "      border-color: transparent;\n",
              "      border-right-color: var(--fill-color);\n",
              "    }\n",
              "    80% {\n",
              "      border-color: transparent;\n",
              "      border-right-color: var(--fill-color);\n",
              "      border-bottom-color: var(--fill-color);\n",
              "    }\n",
              "    90% {\n",
              "      border-color: transparent;\n",
              "      border-bottom-color: var(--fill-color);\n",
              "    }\n",
              "  }\n",
              "</style>\n",
              "\n",
              "  <script>\n",
              "    async function quickchart(key) {\n",
              "      const quickchartButtonEl =\n",
              "        document.querySelector('#' + key + ' button');\n",
              "      quickchartButtonEl.disabled = true;  // To prevent multiple clicks.\n",
              "      quickchartButtonEl.classList.add('colab-df-spinner');\n",
              "      try {\n",
              "        const charts = await google.colab.kernel.invokeFunction(\n",
              "            'suggestCharts', [key], {});\n",
              "      } catch (error) {\n",
              "        console.error('Error during call to suggestCharts:', error);\n",
              "      }\n",
              "      quickchartButtonEl.classList.remove('colab-df-spinner');\n",
              "      quickchartButtonEl.classList.add('colab-df-quickchart-complete');\n",
              "    }\n",
              "    (() => {\n",
              "      let quickchartButtonEl =\n",
              "        document.querySelector('#df-8fb06b37-103f-4556-b75c-06d826d6ef53 button');\n",
              "      quickchartButtonEl.style.display =\n",
              "        google.colab.kernel.accessAllowed ? 'block' : 'none';\n",
              "    })();\n",
              "  </script>\n",
              "</div>\n",
              "\n",
              "    </div>\n",
              "  </div>\n"
            ],
            "application/vnd.google.colaboratory.intrinsic+json": {
              "type": "dataframe",
              "variable_name": "df"
            }
          },
          "metadata": {},
          "execution_count": 69
        }
      ]
    },
    {
      "cell_type": "code",
      "source": [
        "df.columns = df.columns.str.strip()"
      ],
      "metadata": {
        "id": "9tDTasa7ooSw"
      },
      "execution_count": 70,
      "outputs": []
    },
    {
      "cell_type": "markdown",
      "source": [
        "# **Haversine definition**"
      ],
      "metadata": {
        "id": "MXu3aOYEpGst"
      }
    },
    {
      "cell_type": "code",
      "source": [
        "def haversine(lat1, lon1, lat2, lon2):\n",
        "    miles_constant = 3959\n",
        "    lat1, lon1, lat2, lon2 = map(np.deg2rad, [lat1, lon1, lat2, lon2])\n",
        "    dlat = lat2 - lat1\n",
        "    dlon = lon2 - lon1\n",
        "    a = np.sin(dlat/2)**2 + np.cos(lat1) * np.cos(lat2) * np.sin(dlon/2)**2\n",
        "    c = 2 * np.arcsin(np.sqrt(a))\n",
        "    mi = miles_constant * c\n",
        "    return mi"
      ],
      "metadata": {
        "id": "HIAswvlfpIn_"
      },
      "execution_count": 71,
      "outputs": []
    },
    {
      "cell_type": "code",
      "source": [
        "%%timeit\n",
        "distances = []\n",
        "for i in range(len(df)):\n",
        "    distances.append(haversine(40.671, -73.985, df.loc[i, 'locLat'], df.loc[i, 'locLong']))\n",
        "df['distance'] = distances\n"
      ],
      "metadata": {
        "colab": {
          "base_uri": "https://localhost:8080/"
        },
        "id": "KNvuN7T294Wv",
        "outputId": "3898aa9e-809d-4c5b-820f-282f45094a55"
      },
      "execution_count": 72,
      "outputs": [
        {
          "output_type": "stream",
          "name": "stdout",
          "text": [
            "917 µs ± 10.1 µs per loop (mean ± std. dev. of 7 runs, 1000 loops each)\n"
          ]
        }
      ]
    },
    {
      "cell_type": "code",
      "source": [
        "%%timeit\n",
        "distances = []\n",
        "for i in range(len(df)):\n",
        "    distances.append(haversine(40.671, -73.985, df['locLat'], df['locLong']))\n",
        "df['distance'] = distances"
      ],
      "metadata": {
        "colab": {
          "base_uri": "https://localhost:8080/"
        },
        "id": "BoXjDIhGKqEk",
        "outputId": "d8973ab4-191b-4bae-9b18-43cafcd9b383"
      },
      "execution_count": 75,
      "outputs": [
        {
          "output_type": "stream",
          "name": "stdout",
          "text": [
            "34.5 ms ± 4.02 ms per loop (mean ± std. dev. of 7 runs, 10 loops each)\n"
          ]
        }
      ]
    },
    {
      "cell_type": "code",
      "source": [
        "%%timeit\n",
        "distances = []\n",
        "for i in range(len(df)):\n",
        "    distances.append(haversine(40.671, -73.985, df['locLat'][i], df['locLong'][i]))  # ✅ Correct\n",
        "df['distance'] = distances"
      ],
      "metadata": {
        "colab": {
          "base_uri": "https://localhost:8080/"
        },
        "id": "VXy0Id0CLOqd",
        "outputId": "ba10d070-976a-4f6e-fd4b-2fc7f4d47aa6"
      },
      "execution_count": 76,
      "outputs": [
        {
          "output_type": "stream",
          "name": "stdout",
          "text": [
            "830 µs ± 198 µs per loop (mean ± std. dev. of 7 runs, 1000 loops each)\n"
          ]
        }
      ]
    },
    {
      "cell_type": "markdown",
      "source": [
        "# **Iterrows Haversine**"
      ],
      "metadata": {
        "id": "jiq1cSOdpdaW"
      }
    },
    {
      "cell_type": "code",
      "source": [
        "%%timeit\n",
        "# Haversine applied on rows via iteration\n",
        "haversine_series = []\n",
        "for index, row in df.iterrows():\n",
        "    haversine_series.append(haversine(40.671, -73.985,\\\n",
        "                                      row['locLat'], row['locLong']))\n",
        "df['distance'] = haversine_series"
      ],
      "metadata": {
        "colab": {
          "base_uri": "https://localhost:8080/"
        },
        "id": "MwtBgKGPpaHT",
        "outputId": "b3fe412f-d30b-4e91-dca9-ebe37ccfb63b"
      },
      "execution_count": null,
      "outputs": [
        {
          "output_type": "stream",
          "name": "stdout",
          "text": [
            "2.08 ms ± 186 µs per loop (mean ± std. dev. of 7 runs, 100 loops each)\n"
          ]
        }
      ]
    },
    {
      "cell_type": "markdown",
      "source": [
        "# **Apply Haversine on rows**"
      ],
      "metadata": {
        "id": "oiorXaqwx7Fm"
      }
    },
    {
      "cell_type": "code",
      "source": [
        "%timeit df['distance'] =\\\n",
        "df.apply(lambda row: haversine(40.671, -73.985,\\\n",
        "                               row['locLat'], row['locLong']), axis=1)"
      ],
      "metadata": {
        "colab": {
          "base_uri": "https://localhost:8080/"
        },
        "id": "lrn5nO3lx86b",
        "outputId": "b4ad6561-c0aa-4ae0-fb32-ebb352ce156c"
      },
      "execution_count": null,
      "outputs": [
        {
          "output_type": "stream",
          "name": "stdout",
          "text": [
            "1 ms ± 22.1 µs per loop (mean ± std. dev. of 7 runs, 1000 loops each)\n"
          ]
        }
      ]
    },
    {
      "cell_type": "code",
      "source": [
        "!pip install line_profiler\n",
        "%load_ext line_profiler\n",
        "import line_profiler\n"
      ],
      "metadata": {
        "colab": {
          "base_uri": "https://localhost:8080/"
        },
        "id": "Ukl5DrD_yxIG",
        "outputId": "8de881fb-2a83-4995-dc1d-27376d189cc3"
      },
      "execution_count": null,
      "outputs": [
        {
          "output_type": "stream",
          "name": "stdout",
          "text": [
            "Collecting line_profiler\n",
            "  Downloading line_profiler-4.2.0-cp311-cp311-manylinux_2_17_x86_64.manylinux2014_x86_64.whl.metadata (34 kB)\n",
            "Downloading line_profiler-4.2.0-cp311-cp311-manylinux_2_17_x86_64.manylinux2014_x86_64.whl (750 kB)\n",
            "\u001b[2K   \u001b[90m━━━━━━━━━━━━━━━━━━━━━━━━━━━━━━━━━━━━━━━━\u001b[0m \u001b[32m750.2/750.2 kB\u001b[0m \u001b[31m12.4 MB/s\u001b[0m eta \u001b[36m0:00:00\u001b[0m\n",
            "\u001b[?25hInstalling collected packages: line_profiler\n",
            "Successfully installed line_profiler-4.2.0\n"
          ]
        }
      ]
    },
    {
      "cell_type": "code",
      "source": [
        "# Haversine applied on rows\n",
        "%lprun -f haversine \\\n",
        "df.apply(lambda row: haversine(40.671, -73.985,\\\n",
        "                               row['locLat'], row['locLong']), axis=1)"
      ],
      "metadata": {
        "id": "0YueRvuXyNyN"
      },
      "execution_count": null,
      "outputs": []
    },
    {
      "cell_type": "markdown",
      "source": [
        "# **Vectorized implementation of Haversine applied on Pandas series**"
      ],
      "metadata": {
        "id": "oYyCkdxK2MfY"
      }
    },
    {
      "cell_type": "markdown",
      "source": [
        "**Timing vectorized implementation**"
      ],
      "metadata": {
        "id": "DoOiob2d2RTu"
      }
    },
    {
      "cell_type": "code",
      "source": [
        "# Vectorized implementation of Haversine applied on Pandas series\n",
        "%timeit df['distance'] = haversine(40.671, -73.985,\\\n",
        "                                   df['locLat'], df['locLong'])"
      ],
      "metadata": {
        "colab": {
          "base_uri": "https://localhost:8080/"
        },
        "id": "GlVd5V6u2Oak",
        "outputId": "53616796-8828-4b92-9b03-e16275cdaf5e"
      },
      "execution_count": null,
      "outputs": [
        {
          "output_type": "stream",
          "name": "stdout",
          "text": [
            "1.36 ms ± 205 µs per loop (mean ± std. dev. of 7 runs, 1000 loops each)\n"
          ]
        }
      ]
    },
    {
      "cell_type": "markdown",
      "source": [
        "**Profiling vectorized implementation**\n"
      ],
      "metadata": {
        "id": "Cyc_90Rb2izx"
      }
    },
    {
      "cell_type": "code",
      "source": [
        "# Vectorized implementation profile\n",
        "%lprun -f haversine haversine(40.671, -73.985,\\\n",
        "                              df['locLat'], df['locLong'])"
      ],
      "metadata": {
        "id": "5cKpqSEi2kj5"
      },
      "execution_count": null,
      "outputs": []
    },
    {
      "cell_type": "markdown",
      "source": [
        "\n",
        "# **Vectorized implementation of Haversine applied on NumPy arrays**"
      ],
      "metadata": {
        "id": "0oXkjHBq2q_d"
      }
    },
    {
      "cell_type": "markdown",
      "source": [
        "**Timing vectorized implementation**"
      ],
      "metadata": {
        "id": "PGH62dUd23Uv"
      }
    },
    {
      "cell_type": "code",
      "source": [
        "# Vectorized implementation of Haversine applied on NumPy arrays\n",
        "%timeit df['distance'] = haversine(40.671, -73.985,\\\n",
        "                         df['locLat'].values, df['locLong'].values)"
      ],
      "metadata": {
        "colab": {
          "base_uri": "https://localhost:8080/"
        },
        "id": "7L6fZdoD21XH",
        "outputId": "0e1f9760-a907-43b0-b5e8-ecfdcfd0d422"
      },
      "execution_count": null,
      "outputs": [
        {
          "output_type": "stream",
          "name": "stdout",
          "text": [
            "164 µs ± 7.87 µs per loop (mean ± std. dev. of 7 runs, 10000 loops each)\n"
          ]
        }
      ]
    },
    {
      "cell_type": "code",
      "source": [
        "%%timeit\n",
        "# Convert pandas arrays to NumPy ndarrays\n",
        "np_lat = df['locLat'].values\n",
        "np_lon = df['locLong'].values"
      ],
      "metadata": {
        "colab": {
          "base_uri": "https://localhost:8080/"
        },
        "id": "73myHMlZ3QeJ",
        "outputId": "a15f2324-6390-45c1-eb51-4b12607808f2"
      },
      "execution_count": null,
      "outputs": [
        {
          "output_type": "stream",
          "name": "stdout",
          "text": [
            "6.19 µs ± 50.5 ns per loop (mean ± std. dev. of 7 runs, 100000 loops each)\n"
          ]
        }
      ]
    },
    {
      "cell_type": "code",
      "source": [
        "# Vectorized implementation of Haversine applied on NumPy arrays\n",
        "%timeit df['distance'] = haversine(40.671, -73.985,\\\n",
        "                         df['locLat'].values, df['locLong'].values)"
      ],
      "metadata": {
        "colab": {
          "base_uri": "https://localhost:8080/"
        },
        "id": "t-qBFFlO5F0B",
        "outputId": "f6fcde0f-0262-4c38-ec60-dc30f2531d94"
      },
      "execution_count": null,
      "outputs": [
        {
          "output_type": "stream",
          "name": "stdout",
          "text": [
            "170 µs ± 8.19 µs per loop (mean ± std. dev. of 7 runs, 10000 loops each)\n"
          ]
        }
      ]
    },
    {
      "cell_type": "markdown",
      "source": [
        "**Profiling vectorized implementation**\n"
      ],
      "metadata": {
        "id": "4k36bJty3Vvr"
      }
    },
    {
      "cell_type": "code",
      "source": [
        "%lprun -f haversine df['distance'] = haversine(40.671, -73.985,\\\n",
        "                        df['locLat'].values, df['locLong'].values)"
      ],
      "metadata": {
        "id": "6hxBpnYO3d80"
      },
      "execution_count": null,
      "outputs": []
    },
    {
      "cell_type": "code",
      "source": [],
      "metadata": {
        "id": "EleV-iWO3mEV"
      },
      "execution_count": null,
      "outputs": []
    }
  ]
}